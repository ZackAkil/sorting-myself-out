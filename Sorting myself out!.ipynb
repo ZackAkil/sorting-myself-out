{
 "cells": [
  {
   "cell_type": "code",
   "execution_count": 1,
   "metadata": {},
   "outputs": [],
   "source": [
    "%matplotlib inline\n",
    "import random\n",
    "import time\n",
    "import matplotlib.pyplot as plt"
   ]
  },
  {
   "cell_type": "markdown",
   "metadata": {},
   "source": [
    "https://en.wikipedia.org/wiki/Merge_sort"
   ]
  },
  {
   "cell_type": "code",
   "execution_count": 44,
   "metadata": {},
   "outputs": [],
   "source": [
    "def merge_sort(values):\n",
    "    if len(values) <= 1:\n",
    "        return values\n",
    "    pivot = int(len(values)/2)\n",
    "    \n",
    "    left, right = merge_sort(values[:pivot]), merge_sort(values[pivot:])\n",
    "    result = []\n",
    "    print('start',left, right)\n",
    "    in_merge = True\n",
    "    while in_merge:\n",
    "        if len(right) == 0:\n",
    "            result += left\n",
    "            in_merge = False\n",
    "        elif len(left) == 0:\n",
    "            result += right\n",
    "            in_merge = False\n",
    "            \n",
    "        elif right[0] < left[0]:\n",
    "            result.append(right.pop(0))\n",
    "        else:\n",
    "            result.append(left.pop(0))\n",
    "        print(result) \n",
    "    print('final',result) \n",
    "    \n",
    "    return result\n",
    "    "
   ]
  },
  {
   "cell_type": "code",
   "execution_count": 45,
   "metadata": {},
   "outputs": [
    {
     "name": "stdout",
     "output_type": "stream",
     "text": [
      "start [4] [3]\n",
      "[3]\n",
      "[3, 4]\n",
      "final [3, 4]\n",
      "start [5] [72]\n",
      "[5]\n",
      "[5, 72]\n",
      "final [5, 72]\n",
      "start [3, 4] [5, 72]\n",
      "[3]\n",
      "[3, 4]\n",
      "[3, 4, 5, 72]\n",
      "final [3, 4, 5, 72]\n",
      "start [1] [3]\n",
      "[1]\n",
      "[1, 3]\n",
      "final [1, 3]\n",
      "start [1] [8]\n",
      "[1]\n",
      "[1, 8]\n",
      "final [1, 8]\n",
      "start [4] [1, 8]\n",
      "[1]\n",
      "[1, 4]\n",
      "[1, 4, 8]\n",
      "final [1, 4, 8]\n",
      "start [1, 3] [1, 4, 8]\n",
      "[1]\n",
      "[1, 1]\n",
      "[1, 1, 3]\n",
      "[1, 1, 3, 4, 8]\n",
      "final [1, 1, 3, 4, 8]\n",
      "start [3, 4, 5, 72] [1, 1, 3, 4, 8]\n",
      "[1]\n",
      "[1, 1]\n",
      "[1, 1, 3]\n",
      "[1, 1, 3, 3]\n",
      "[1, 1, 3, 3, 4]\n",
      "[1, 1, 3, 3, 4, 4]\n",
      "[1, 1, 3, 3, 4, 4, 5]\n",
      "[1, 1, 3, 3, 4, 4, 5, 8]\n",
      "[1, 1, 3, 3, 4, 4, 5, 8, 72]\n",
      "final [1, 1, 3, 3, 4, 4, 5, 8, 72]\n"
     ]
    },
    {
     "data": {
      "text/plain": [
       "[1, 1, 3, 3, 4, 4, 5, 8, 72]"
      ]
     },
     "execution_count": 45,
     "metadata": {},
     "output_type": "execute_result"
    }
   ],
   "source": [
    "merge_sort([4,3,5,72,1,3,4,1,8])"
   ]
  },
  {
   "cell_type": "markdown",
   "metadata": {},
   "source": [
    "https://en.wikipedia.org/wiki/Bubble_sort"
   ]
  },
  {
   "cell_type": "code",
   "execution_count": 27,
   "metadata": {},
   "outputs": [],
   "source": [
    "def bubble_sort(values):\n",
    "    for i in range(len(values)):\n",
    "        for j in range(len(values)-1):\n",
    "            if values[j] > values[j+1]:\n",
    "                values[j+1], values[j] = values[j], values[j+1]\n",
    "    return values"
   ]
  },
  {
   "cell_type": "code",
   "execution_count": 28,
   "metadata": {},
   "outputs": [
    {
     "data": {
      "text/plain": [
       "[1, 2, 3, 4, 5, 9]"
      ]
     },
     "execution_count": 28,
     "metadata": {},
     "output_type": "execute_result"
    }
   ],
   "source": [
    "bubble_sort([5, 3, 1, 2, 4, 9])"
   ]
  },
  {
   "cell_type": "code",
   "execution_count": 73,
   "metadata": {},
   "outputs": [],
   "source": [
    "def get_time(func, lengths = [10,100,1000,5000,10000]):\n",
    "    random.seed(42)\n",
    "    times = []\n",
    "    for i in lengths:\n",
    "        \n",
    "\n",
    "        rand_nums = [random.randint(0,i*2) for n in range(i)]\n",
    "        t0 = time.time()\n",
    "        sorted_nums = func(rand_nums)\n",
    "        t1 = time.time()\n",
    "        assert(sorted_nums == sorted(rand_nums))\n",
    "        total_time = t1-t0\n",
    "        \n",
    "        times.append(total_time)\n",
    "    return times"
   ]
  },
  {
   "cell_type": "code",
   "execution_count": 74,
   "metadata": {},
   "outputs": [
    {
     "data": {
      "text/plain": [
       "True"
      ]
     },
     "execution_count": 74,
     "metadata": {},
     "output_type": "execute_result"
    }
   ],
   "source": [
    "[1,2,3] == [1,2,3]"
   ]
  },
  {
   "cell_type": "code",
   "execution_count": 75,
   "metadata": {},
   "outputs": [],
   "source": [
    "times = get_time(bubble_sort)"
   ]
  },
  {
   "cell_type": "code",
   "execution_count": 77,
   "metadata": {},
   "outputs": [
    {
     "data": {
      "text/plain": [
       "[<matplotlib.lines.Line2D at 0x109577860>]"
      ]
     },
     "execution_count": 77,
     "metadata": {},
     "output_type": "execute_result"
    },
    {
     "data": {
      "image/png": "[encoded data removed]",
      "text/plain": [
       "<matplotlib.figure.Figure at 0x1094c47f0>"
      ]
     },
     "metadata": {},
     "output_type": "display_data"
    }
   ],
   "source": [
    "plt.plot([10,100,1000,5000,10000], times)"
   ]
  },
  {
   "cell_type": "code",
   "execution_count": 17,
   "metadata": {},
   "outputs": [],
   "source": [
    "v = [1,2,3,5]"
   ]
  },
  {
   "cell_type": "code",
   "execution_count": 18,
   "metadata": {},
   "outputs": [
    {
     "data": {
      "text/plain": [
       "5"
      ]
     },
     "execution_count": 18,
     "metadata": {},
     "output_type": "execute_result"
    }
   ],
   "source": [
    "v.pop(3)"
   ]
  },
  {
   "cell_type": "code",
   "execution_count": 19,
   "metadata": {},
   "outputs": [
    {
     "data": {
      "text/plain": [
       "[1, 2, 3]"
      ]
     },
     "execution_count": 19,
     "metadata": {},
     "output_type": "execute_result"
    }
   ],
   "source": [
    "v"
   ]
  },
  {
   "cell_type": "code",
   "execution_count": 20,
   "metadata": {},
   "outputs": [],
   "source": [
    "v.remove(2)"
   ]
  },
  {
   "cell_type": "code",
   "execution_count": 21,
   "metadata": {},
   "outputs": [
    {
     "data": {
      "text/plain": [
       "[1, 3]"
      ]
     },
     "execution_count": 21,
     "metadata": {},
     "output_type": "execute_result"
    }
   ],
   "source": [
    "v"
   ]
  },
  {
   "cell_type": "code",
   "execution_count": 24,
   "metadata": {},
   "outputs": [],
   "source": [
    "b = [1,234,56,2,3]"
   ]
  },
  {
   "cell_type": "code",
   "execution_count": 27,
   "metadata": {},
   "outputs": [],
   "source": [
    "ints = list(range(10))"
   ]
  },
  {
   "cell_type": "code",
   "execution_count": 28,
   "metadata": {},
   "outputs": [
    {
     "name": "stdout",
     "output_type": "stream",
     "text": [
      "0 [0, 1, 2, 3, 4, 5, 6, 7, 8, 9]\n",
      "2 [1, 2, 3, 4, 5, 6, 7, 8, 9]\n",
      "3 [1, 2, 3, 4, 5, 6, 7, 8, 9]\n",
      "5 [1, 2, 4, 5, 6, 7, 8, 9]\n",
      "6 [1, 2, 4, 5, 6, 7, 8, 9]\n",
      "8 [1, 2, 4, 5, 7, 8, 9]\n",
      "9 [1, 2, 4, 5, 7, 8, 9]\n"
     ]
    }
   ],
   "source": [
    "for num in ints:\n",
    "    print(num, ints)\n",
    "    if (num % 3) == 0:\n",
    "        ints.remove(num)"
   ]
  },
  {
   "cell_type": "code",
   "execution_count": 30,
   "metadata": {},
   "outputs": [
    {
     "data": {
      "text/plain": [
       "3"
      ]
     },
     "execution_count": 30,
     "metadata": {},
     "output_type": "execute_result"
    }
   ],
   "source": [
    "[1,2,3].pop()"
   ]
  },
  {
   "cell_type": "code",
   "execution_count": null,
   "metadata": {},
   "outputs": [],
   "source": []
  }
 ],
 "metadata": {
  "kernelspec": {
   "display_name": "Python 3",
   "language": "python",
   "name": "python3"
  },
  "language_info": {
   "codemirror_mode": {
    "name": "ipython",
    "version": 3
   },
   "file_extension": ".py",
   "mimetype": "text/x-python",
   "name": "python",
   "nbconvert_exporter": "python",
   "pygments_lexer": "ipython3",
   "version": "3.5.2"
  }
 },
 "nbformat": 4,
 "nbformat_minor": 1
}
